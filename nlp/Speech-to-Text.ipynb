{
 "cells": [
  {
   "cell_type": "code",
   "execution_count": 8,
   "id": "c40f87b8",
   "metadata": {},
   "outputs": [
    {
     "name": "stdout",
     "output_type": "stream",
     "text": [
      "Requirement already satisfied: SpeechRecognition in /home/sumit/anaconda3/envs/nlp_course/lib/python3.7/site-packages (3.8.1)\n",
      "Collecting pydub\n",
      "  Using cached https://files.pythonhosted.org/packages/a6/53/d78dc063216e62fc55f6b2eebb447f6a4b0a59f55c8406376f76bf959b08/pydub-0.25.1-py2.py3-none-any.whl\n",
      "Installing collected packages: pydub\n",
      "Successfully installed pydub-0.25.1\n"
     ]
    }
   ],
   "source": [
    "!pip install SpeechRecognition pydub"
   ]
  },
  {
   "cell_type": "code",
   "execution_count": 9,
   "id": "dea03eea",
   "metadata": {},
   "outputs": [],
   "source": [
    "import speech_recognition as sr"
   ]
  },
  {
   "cell_type": "code",
   "execution_count": 5,
   "id": "7878225c",
   "metadata": {},
   "outputs": [
    {
     "name": "stdout",
     "output_type": "stream",
     "text": [
      "Package                Version\r\n",
      "---------------------- -------------\r\n",
      "apturl                 0.5.2\r\n",
      "awscli                 1.25.39\r\n",
      "bcrypt                 3.2.0\r\n",
      "blinker                1.4\r\n",
      "botocore               1.27.39\r\n",
      "Brlapi                 0.8.3\r\n",
      "certifi                2020.6.20\r\n",
      "chardet                4.0.0\r\n",
      "click                  8.0.3\r\n",
      "colorama               0.4.4\r\n",
      "command-not-found      0.3\r\n",
      "cryptography           3.4.8\r\n",
      "cupshelpers            1.0\r\n",
      "dbus-python            1.2.18\r\n",
      "defer                  1.0.6\r\n",
      "dell-recovery          0.0.0\r\n",
      "distro                 1.7.0\r\n",
      "distro-info            1.1build1\r\n",
      "docutils               0.16\r\n",
      "duplicity              0.8.21\r\n",
      "fasteners              0.14.1\r\n",
      "future                 0.18.2\r\n",
      "gWakeOnLAN             0.7.0\r\n",
      "httplib2               0.20.2\r\n",
      "idna                   3.3\r\n",
      "importlib-metadata     4.6.4\r\n",
      "jeepney                0.7.1\r\n",
      "jmespath               1.0.1\r\n",
      "keyring                23.5.0\r\n",
      "language-selector      0.1\r\n",
      "launchpadlib           1.10.16\r\n",
      "lazr.restfulclient     0.14.4\r\n",
      "lazr.uri               1.0.6\r\n",
      "lockfile               0.12.2\r\n",
      "louis                  3.20.0\r\n",
      "macaroonbakery         1.3.1\r\n",
      "Mako                   1.1.3\r\n",
      "MarkupSafe             2.0.1\r\n",
      "monotonic              1.6\r\n",
      "more-itertools         8.10.0\r\n",
      "netifaces              0.11.0\r\n",
      "oauthlib               3.2.0\r\n",
      "olefile                0.46\r\n",
      "paramiko               2.9.3\r\n",
      "pexpect                4.8.0\r\n",
      "Pillow                 9.0.1\r\n",
      "pip                    22.0.2\r\n",
      "progressbar            2.5\r\n",
      "protobuf               3.12.4\r\n",
      "ptyprocess             0.7.0\r\n",
      "pyasn1                 0.4.8\r\n",
      "pycairo                1.20.1\r\n",
      "pycups                 2.0.1\r\n",
      "pydub                  0.25.1\r\n",
      "PyGObject              3.42.0\r\n",
      "PyJWT                  2.4.0\r\n",
      "pymacaroons            0.13.0\r\n",
      "PyNaCl                 1.5.0\r\n",
      "pyparsing              2.4.7\r\n",
      "pyRFC3339              1.1\r\n",
      "python-apt             2.3.0+ubuntu2\r\n",
      "python-dateutil        2.8.1\r\n",
      "python-debian          0.1.43ubuntu1\r\n",
      "pytz                   2022.1\r\n",
      "pyxdg                  0.27\r\n",
      "PyYAML                 5.4.1\r\n",
      "reportlab              3.6.8\r\n",
      "requests               2.25.1\r\n",
      "rsa                    4.7.2\r\n",
      "s3transfer             0.6.0\r\n",
      "SecretStorage          3.3.1\r\n",
      "setuptools             59.6.0\r\n",
      "simplejson             3.17.6\r\n",
      "six                    1.16.0\r\n",
      "sos                    4.3\r\n",
      "SpeechRecognition      3.8.1\r\n",
      "SummerPalace           0.0.0\r\n",
      "systemd-python         234\r\n",
      "ubuntu-advantage-tools 27.8\r\n",
      "ubuntu-drivers-common  0.0.0\r\n",
      "ufw                    0.36.1\r\n",
      "unattended-upgrades    0.1\r\n",
      "urllib3                1.26.5\r\n",
      "usb-creator            0.3.7\r\n",
      "wadllib                1.3.6\r\n",
      "wheel                  0.37.1\r\n",
      "xdg                    5\r\n",
      "xkit                   0.0.0\r\n",
      "zipp                   1.0.0\r\n"
     ]
    }
   ],
   "source": [
    "!pip3 list\n"
   ]
  },
  {
   "cell_type": "code",
   "execution_count": 13,
   "id": "67e2006d",
   "metadata": {},
   "outputs": [],
   "source": [
    "filename = \"music.wav\""
   ]
  },
  {
   "cell_type": "code",
   "execution_count": 14,
   "id": "8e8bdc8c",
   "metadata": {
    "scrolled": true
   },
   "outputs": [
    {
     "name": "stdout",
     "output_type": "stream",
     "text": [
      "\u001b[0m\u001b[00;36mmusic.wav\u001b[0m  Untitled.ipynb\r\n"
     ]
    }
   ],
   "source": [
    "ls"
   ]
  },
  {
   "cell_type": "code",
   "execution_count": 15,
   "id": "ff0a5c16",
   "metadata": {},
   "outputs": [],
   "source": [
    "# initialize the recognizer\n",
    "r = sr.Recognizer()"
   ]
  },
  {
   "cell_type": "code",
   "execution_count": 18,
   "id": "8f5e32a3",
   "metadata": {},
   "outputs": [
    {
     "name": "stdout",
     "output_type": "stream",
     "text": [
      "talking nonsense\n"
     ]
    }
   ],
   "source": [
    "# open the file\n",
    "with sr.AudioFile(filename) as source:\n",
    "    # listen for the data (load audio to memory)\n",
    "    audio_data = r.record(source)\n",
    "    # recognize (convert from speech to text)\n",
    "    text = r.recognize_google(audio_data)\n",
    "    print(text)"
   ]
  },
  {
   "cell_type": "code",
   "execution_count": 2,
   "id": "1c5f40f0",
   "metadata": {},
   "outputs": [
    {
     "name": "stderr",
     "output_type": "stream",
     "text": [
      "/home/sumit/anaconda3/envs/nlp_course/lib/python3.7/site-packages/pydub/utils.py:170: RuntimeWarning: Couldn't find ffmpeg or avconv - defaulting to ffmpeg, but may not work\n",
      "  warn(\"Couldn't find ffmpeg or avconv - defaulting to ffmpeg, but may not work\", RuntimeWarning)\n"
     ]
    }
   ],
   "source": [
    "# importing libraries \n",
    "import speech_recognition as sr \n",
    "import os \n",
    "from pydub import AudioSegment\n",
    "from pydub.silence import split_on_silence\n",
    "\n",
    "# create a speech recognition object\n",
    "r = sr.Recognizer()\n",
    "\n",
    "# a function that splits the audio file into chunks\n",
    "# and applies speech recognition\n",
    "def get_large_audio_transcription(path):\n",
    "    \"\"\"\n",
    "    Splitting the large audio file into chunks\n",
    "    and apply speech recognition on each of these chunks\n",
    "    \"\"\"\n",
    "    # open the audio file using pydub\n",
    "    sound = AudioSegment.from_wav(path)  \n",
    "    # split audio sound where silence is 700 miliseconds or more and get chunks\n",
    "    chunks = split_on_silence(sound,\n",
    "        # experiment with this value for your target audio file\n",
    "        min_silence_len = 500,\n",
    "        # adjust this per requirement\n",
    "        silence_thresh = sound.dBFS-14,\n",
    "        # keep the silence for 1 second, adjustable as well\n",
    "        keep_silence=500,\n",
    "    )\n",
    "    folder_name = \"audio-chunks\"\n",
    "    # create a directory to store the audio chunks\n",
    "    if not os.path.isdir(folder_name):\n",
    "        os.mkdir(folder_name)\n",
    "    whole_text = \"\"\n",
    "    # process each chunk \n",
    "    for i, audio_chunk in enumerate(chunks, start=1):\n",
    "        # export audio chunk and save it in\n",
    "        # the `folder_name` directory.\n",
    "        chunk_filename = os.path.join(folder_name, f\"chunk{i}.wav\")\n",
    "        audio_chunk.export(chunk_filename, format=\"wav\")\n",
    "        # recognize the chunk\n",
    "        with sr.AudioFile(chunk_filename) as source:\n",
    "            audio_listened = r.record(source)\n",
    "            # try converting it to text\n",
    "            try:\n",
    "                text = r.recognize_google(audio_listened)\n",
    "            except sr.UnknownValueError as e:\n",
    "                print(\"Error:\", str(e))\n",
    "            else:\n",
    "                text = f\"{text.capitalize()}. \"\n",
    "                print(chunk_filename, \":\", text)\n",
    "                whole_text += text\n",
    "    # return the text for all chunks detected\n",
    "    return whole_text"
   ]
  },
  {
   "cell_type": "code",
   "execution_count": 3,
   "id": "6076f1d6",
   "metadata": {},
   "outputs": [
    {
     "name": "stdout",
     "output_type": "stream",
     "text": [
      "audio-chunks/chunk1.wav : His about which she had fixed a bug for country seat. \n",
      "audio-chunks/chunk2.wav : Are short distance to the city. \n",
      "audio-chunks/chunk3.wav : Just that what is now called dutch street. \n",
      "audio-chunks/chunk4.wav : Should bounded with proofs of his ingenuity. \n",
      "audio-chunks/chunk5.wav : And smoke jack. \n",
      "audio-chunks/chunk6.wav : Required host version. \n",
      "audio-chunks/chunk7.wav : Church of windsor was to meet without fire. \n",
      "audio-chunks/chunk8.wav : Chords for the horses. \n",
      "audio-chunks/chunk9.wav : Weather cox it turned against the wind and other one headed could try with this. \n",
      "audio-chunks/chunk10.wav : Rustom stand confounded o b holders. \n",
      "\n",
      "Full text: His about which she had fixed a bug for country seat. Are short distance to the city. Just that what is now called dutch street. Should bounded with proofs of his ingenuity. And smoke jack. Required host version. Church of windsor was to meet without fire. Chords for the horses. Weather cox it turned against the wind and other one headed could try with this. Rustom stand confounded o b holders. \n"
     ]
    }
   ],
   "source": [
    "path = \"music-2.wav\"\n",
    "print(\"\\nFull text:\", get_large_audio_transcription(path))"
   ]
  },
  {
   "cell_type": "code",
   "execution_count": null,
   "id": "ae61ffbf",
   "metadata": {},
   "outputs": [],
   "source": []
  },
  {
   "cell_type": "code",
   "execution_count": null,
   "id": "a593cfdc",
   "metadata": {},
   "outputs": [],
   "source": []
  }
 ],
 "metadata": {
  "kernelspec": {
   "display_name": "Python 3 (ipykernel)",
   "language": "python",
   "name": "python3"
  },
  "language_info": {
   "codemirror_mode": {
    "name": "ipython",
    "version": 3
   },
   "file_extension": ".py",
   "mimetype": "text/x-python",
   "name": "python",
   "nbconvert_exporter": "python",
   "pygments_lexer": "ipython3",
   "version": "3.7.13"
  }
 },
 "nbformat": 4,
 "nbformat_minor": 5
}
