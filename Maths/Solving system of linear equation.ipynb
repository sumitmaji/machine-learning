{
 "cells": [
  {
   "cell_type": "code",
   "execution_count": 1,
   "id": "5bf89998",
   "metadata": {},
   "outputs": [],
   "source": [
    "import numpy as np"
   ]
  },
  {
   "cell_type": "markdown",
   "id": "85414bd9",
   "metadata": {},
   "source": [
    "Solving system of linear equation\n",
    "\n",
    "4x  + 3y = 20\n",
    "\n",
    "-5x + 9y = 26"
   ]
  },
  {
   "cell_type": "code",
   "execution_count": 2,
   "id": "219840c1",
   "metadata": {},
   "outputs": [],
   "source": [
    "m_list = [[4,3],[-5,9]]"
   ]
  },
  {
   "cell_type": "code",
   "execution_count": 4,
   "id": "b4faccdd",
   "metadata": {},
   "outputs": [],
   "source": [
    "A=np.array(m_list)"
   ]
  },
  {
   "cell_type": "code",
   "execution_count": 5,
   "id": "416b38df",
   "metadata": {},
   "outputs": [],
   "source": [
    "B=np.array([20,26])"
   ]
  },
  {
   "cell_type": "code",
   "execution_count": 6,
   "id": "3e9e595d",
   "metadata": {},
   "outputs": [],
   "source": [
    "X=np.linalg.inv(A).dot(B)"
   ]
  },
  {
   "cell_type": "code",
   "execution_count": 7,
   "id": "b48d7f8d",
   "metadata": {},
   "outputs": [
    {
     "name": "stdout",
     "output_type": "stream",
     "text": [
      "[2. 4.]\n"
     ]
    }
   ],
   "source": [
    "print(X)"
   ]
  },
  {
   "cell_type": "code",
   "execution_count": 8,
   "id": "b535f481",
   "metadata": {},
   "outputs": [],
   "source": [
    "X=np.linalg.solve(A,B)"
   ]
  },
  {
   "cell_type": "code",
   "execution_count": 9,
   "id": "f7268b34",
   "metadata": {},
   "outputs": [
    {
     "name": "stdout",
     "output_type": "stream",
     "text": [
      "[2. 4.]\n"
     ]
    }
   ],
   "source": [
    "print(X)"
   ]
  },
  {
   "cell_type": "code",
   "execution_count": null,
   "id": "9996f75e",
   "metadata": {},
   "outputs": [],
   "source": []
  }
 ],
 "metadata": {
  "kernelspec": {
   "display_name": "Python 3 (ipykernel)",
   "language": "python",
   "name": "python3"
  },
  "language_info": {
   "codemirror_mode": {
    "name": "ipython",
    "version": 3
   },
   "file_extension": ".py",
   "mimetype": "text/x-python",
   "name": "python",
   "nbconvert_exporter": "python",
   "pygments_lexer": "ipython3",
   "version": "3.9.12"
  }
 },
 "nbformat": 4,
 "nbformat_minor": 5
}
